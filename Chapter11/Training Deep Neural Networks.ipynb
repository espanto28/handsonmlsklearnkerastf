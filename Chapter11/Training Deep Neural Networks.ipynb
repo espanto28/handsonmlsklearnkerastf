{
 "cells": [
  {
   "cell_type": "code",
   "execution_count": 1,
   "metadata": {},
   "outputs": [],
   "source": [
    "import sklearn\n",
    "assert sklearn.__version__ >= \"0.20\"\n",
    "\n",
    "try:\n",
    "    # %tensorflow_version only exists in Colab.\n",
    "    %tensorflow_version 2.x\n",
    "except Exception:\n",
    "    pass\n",
    "\n",
    "# TensorFlow ≥2.0 is required\n",
    "import tensorflow as tf\n",
    "from tensorflow import keras\n",
    "\n",
    "# Common imports\n",
    "import numpy as np\n",
    "import os\n",
    "\n",
    "# to make this notebook's output stable across runs\n",
    "np.random.seed(42)\n",
    "\n",
    "# To plot pretty figures\n",
    "%matplotlib inline\n",
    "import matplotlib as mpl\n",
    "import matplotlib.pyplot as plt\n",
    "mpl.rc('axes', labelsize=14)\n",
    "mpl.rc('xtick', labelsize=12)\n",
    "mpl.rc('ytick', labelsize=12)"
   ]
  },
  {
   "cell_type": "markdown",
   "metadata": {},
   "source": [
    "# Training Deep Neural Networks\n",
    "\n",
    "Why would we need to use a deep neural net? Well say we are tackling a complex problem such as playing the gam eof go or generating auto-text. It can not actually be done well with shallow neural net. It is preferable to use a deep neural net. \n",
    "\n",
    "However it is difficult to train deep neural nets below are some problems you can face:\n",
    "\n",
    "* You may be faced with the tricky vanishing gradient problem or the related exploding gradient problem. This is when teh gradients grow smaller and smaller or larger and larger, when folowing backward through the DNN during training. Both of these problems make lower layers very hard to train. \n",
    "\n",
    "* You might not have enough training for such a large netowrk, or it might be too costly to label.\n",
    "\n",
    "* Training may be extremely slow.\n",
    "\n",
    "* A model with millions of parameters would severly risk overfitting the training set, especially if there are not enough training instances or if they are too noisy. \n",
    "\n",
    "## The Vanishing/Exploding Gradient Problems\n",
    "\n",
    "Backpropagation works by going back from the output layer to th einput layer propagating the error gradient along the way. Once the algorithm has computed the gradient the cost function with regard to each parameter in the network, it uses these gradients to update each parameter with the gradient descent step. \n",
    "\n",
    "The problem with this approach with deep neural nets is that as the gradients gets smaller as you go down the lower layers meaning you never update the weights. The training never converges to a good solution.  This is called **vanishing graidents** problem. Sometimes the opposite happens and the gradients get bigger and bigger. Until the layers get insanely large weights and the alogrithm diverges. This is called **exploding graidents**. It is important to remember that different layers may learn at very different speeds. \n"
   ]
  },
  {
   "cell_type": "code",
   "execution_count": 2,
   "metadata": {},
   "outputs": [],
   "source": [
    "def logit(z):\n",
    "    return 1 / (1 + np.exp(-z))"
   ]
  },
  {
   "cell_type": "code",
   "execution_count": 3,
   "metadata": {},
   "outputs": [
    {
     "data": {
      "image/png": "[encoded data removed]",
      "text/plain": [
       "<Figure size 432x288 with 1 Axes>"
      ]
     },
     "metadata": {
      "needs_background": "light"
     },
     "output_type": "display_data"
    }
   ],
   "source": [
    "z = np.linspace(-5, 5, 200)\n",
    "\n",
    "plt.plot([-5, 5], [0, 0], 'k-')\n",
    "plt.plot([-5, 5], [1, 1], 'k--')\n",
    "plt.plot([0, 0], [-0.2, 1.2], 'k-')\n",
    "plt.plot([-5, 5], [-3/4, 7/4], 'g--')\n",
    "plt.plot(z, logit(z), \"b-\", linewidth=2)\n",
    "props = dict(facecolor='black', shrink=0.1)\n",
    "plt.annotate('Saturating', xytext=(3.5, 0.7), xy=(5, 1), arrowprops=props, fontsize=14, ha=\"center\")\n",
    "plt.annotate('Saturating', xytext=(-3.5, 0.3), xy=(-5, 0), arrowprops=props, fontsize=14, ha=\"center\")\n",
    "plt.annotate('Linear', xytext=(2, 0.2), xy=(0, 0.5), arrowprops=props, fontsize=14, ha=\"center\")\n",
    "plt.grid(True)\n",
    "plt.title(\"Sigmoid activation function\", fontsize=14)\n",
    "plt.axis([-5, 5, -0.2, 1.2])\n",
    "\n",
    "#save_fig(\"sigmoid_saturation_plot\")\n",
    "plt.show()"
   ]
  },
  {
   "cell_type": "markdown",
   "metadata": {},
   "source": [
    "In the image above we see that when the inputs become large whether positive or negative the function saturates at 0 or 1 with a derivative extremely close to 0. When backpropagation kicks in it has varitually no gradient to progpagate back through the network and what little graidents exsts keeps getting diluted as backprogation progress down through the top layers so nothing left for the loower layers. "
   ]
  },
  {
   "cell_type": "markdown",
   "metadata": {},
   "source": [
    "## Glorot and He Initialization\n",
    "\n",
    "In order to alleviate the unstable gradients problems. They point out that we need the signal  to flow properly in both directions: forward direction when making predictions and in the reverse direction when backpropagating gradients. We do not want the signal to die out nor do we want it to explode and saturate. \n",
    "\n",
    "For the signal to flow properly we need the variance of the outputs of each layer to be equal to the variance of inputs  and we need the gradients to have equal variance before an after flowing through a layer in the reverse direction. \n",
    "\n",
    "It is not actually possible to guarantee both they layer has an equal number of inputs and neurons these numbers are called the fan-in and fan-out of the layer. The solution to this was to make the connection weights of each layer innitialized randomly as described by fanavvg = (fanin + fanoout)/2. This initilization strategy is called Xavier initialization or Glorot initialization. \n",
    "\n",
    "Keras uses Glorot initialization with a uniform distribution. When creating a alyer, you can chnaget this to He initialization by setting **kernel_initializer=\"he_uniform\"**."
   ]
  },
  {
   "cell_type": "code",
   "execution_count": 4,
   "metadata": {},
   "outputs": [
    {
     "data": {
      "text/plain": [
       "['Constant',\n",
       " 'GlorotNormal',\n",
       " 'GlorotUniform',\n",
       " 'Identity',\n",
       " 'Initializer',\n",
       " 'Ones',\n",
       " 'Orthogonal',\n",
       " 'RandomNormal',\n",
       " 'RandomUniform',\n",
       " 'TruncatedNormal',\n",
       " 'VarianceScaling',\n",
       " 'Zeros',\n",
       " 'constant',\n",
       " 'deserialize',\n",
       " 'get',\n",
       " 'glorot_normal',\n",
       " 'glorot_uniform',\n",
       " 'he_normal',\n",
       " 'he_uniform',\n",
       " 'identity',\n",
       " 'lecun_normal',\n",
       " 'lecun_uniform',\n",
       " 'ones',\n",
       " 'orthogonal',\n",
       " 'serialize',\n",
       " 'zeros']"
      ]
     },
     "execution_count": 4,
     "metadata": {},
     "output_type": "execute_result"
    }
   ],
   "source": [
    "[name for name in dir(keras.initializers) if not name.startswith(\"_\")]"
   ]
  },
  {
   "cell_type": "code",
   "execution_count": 5,
   "metadata": {},
   "outputs": [
    {
     "data": {
      "text/plain": [
       "<tensorflow.python.keras.layers.core.Dense at 0x7feb1c14d850>"
      ]
     },
     "execution_count": 5,
     "metadata": {},
     "output_type": "execute_result"
    }
   ],
   "source": [
    "keras.layers.Dense(10, activation=\"relu\", kernel_initializer=\"he_normal\")"
   ]
  },
  {
   "cell_type": "code",
   "execution_count": 6,
   "metadata": {},
   "outputs": [
    {
     "data": {
      "text/plain": [
       "<tensorflow.python.keras.layers.core.Dense at 0x7feb1c14d990>"
      ]
     },
     "execution_count": 6,
     "metadata": {},
     "output_type": "execute_result"
    }
   ],
   "source": [
    "init = keras.initializers.VarianceScaling(scale=2., mode='fan_avg',\n",
    "                                          distribution='uniform')\n",
    "keras.layers.Dense(10, activation=\"relu\", kernel_initializer=init)"
   ]
  },
  {
   "cell_type": "markdown",
   "metadata": {},
   "source": [
    "## Nonsaturating activation Functions \n",
    "\n",
    "One of the reasons we had a problem with unstable gradients were in part due to poor activation function choices. The ReLu function works well because it does not saturate for paositive values and it is fast to compute. \n",
    "\n",
    "Some challenges with ReLu are that sometimes it just outputs 0. THis is called \"dying ReLUs\". This can happen if you have a large learning rate. \n",
    "\n",
    "Neurons die when its weights get tweaked in such a way that the weighted sum of is inputs are negative for all instances in the training set.  \n",
    "\n",
    "To solve this problem you can use a variant of ReLU like \"Leaky ReLU\". The hyperparameter for the learning rate defines how much of the function \"leaks\". \n",
    "\n",
    "ReLU sometimes overfits on smaller datasets. \n",
    "\n",
    "### Leakly ReLU"
   ]
  },
  {
   "cell_type": "code",
   "execution_count": 7,
   "metadata": {},
   "outputs": [],
   "source": [
    "def leaky_relu(z, alpha=0.01):\n",
    "    return np.maximum(alpha*z, z)"
   ]
  },
  {
   "cell_type": "code",
   "execution_count": 8,
   "metadata": {},
   "outputs": [
    {
     "data": {
      "image/png": "[encoded data removed]",
      "text/plain": [
       "<Figure size 432x288 with 1 Axes>"
      ]
     },
     "metadata": {
      "needs_background": "light"
     },
     "output_type": "display_data"
    }
   ],
   "source": [
    "plt.plot(z, leaky_relu(z, 0.05), \"b-\", linewidth=2)\n",
    "plt.plot([-5, 5], [0, 0], 'k-')\n",
    "plt.plot([0, 0], [-0.5, 4.2], 'k-')\n",
    "plt.grid(True)\n",
    "props = dict(facecolor='black', shrink=0.1)\n",
    "plt.annotate('Leak', xytext=(-3.5, 0.5), xy=(-5, -0.2), arrowprops=props, fontsize=14, ha=\"center\")\n",
    "plt.title(\"Leaky ReLU activation function\", fontsize=14)\n",
    "plt.axis([-5, 5, -0.5, 4.2])\n",
    "\n",
    "#save_fig(\"leaky_relu_plot\")\n",
    "plt.show()"
   ]
  },
  {
   "cell_type": "markdown",
   "metadata": {},
   "source": [
    "In LeaklyReLU the hyperparameter alpha defines how much the functions leasks. The slope of the function for z <0 and is typically set to 0.01. THis small slope ensure sthst leakly ReLUs never die. Leakly ReLU always outperforms a strict ReLU activation function. IN fact if you set a higher alpha to 0.2 it may performance better than a 0.01 alpha parameters. Alpha is usually picked randomly. \n",
    "\n",
    "You can also have **PReLU** which is when the alpha parameter is learned during training. This is called parametric leakly ReLU. \n",
    "\n",
    "There is also another option called **exponential linear unit** a new activation fucntion that outperformed all ReLus. \n",
    "\n",
    "### ELU"
   ]
  },
  {
   "cell_type": "code",
   "execution_count": 9,
   "metadata": {},
   "outputs": [],
   "source": [
    "def elu(z, alpha=1):\n",
    "    return np.where(z < 0, alpha * (np.exp(z) - 1), z)"
   ]
  },
  {
   "cell_type": "code",
   "execution_count": 10,
   "metadata": {},
   "outputs": [
    {
     "data": {
      "image/png": "[encoded data removed]",
      "text/plain": [
       "<Figure size 432x288 with 1 Axes>"
      ]
     },
     "metadata": {
      "needs_background": "light"
     },
     "output_type": "display_data"
    }
   ],
   "source": [
    "plt.plot(z, elu(z), \"b-\", linewidth=2)\n",
    "plt.plot([-5, 5], [0, 0], 'k-')\n",
    "plt.plot([-5, 5], [-1, -1], 'k--')\n",
    "plt.plot([0, 0], [-2.2, 3.2], 'k-')\n",
    "plt.grid(True)\n",
    "plt.title(r\"ELU activation function ($\\alpha=1$)\", fontsize=14)\n",
    "plt.axis([-5, 5, -2.2, 3.2])\n",
    "\n",
    "#save_fig(\"elu_plot\")\n",
    "plt.show()"
   ]
  },
  {
   "cell_type": "markdown",
   "metadata": {},
   "source": [
    "THere are a few key differneces between ELU and RELU:\n",
    "\n",
    "* It takes negative values when z < 0. This allows the unit to have a average output closer to 0. and helps alleviate the vanishing graident problem. The hyperparameter alpha defines the value that the ELU function approaches when z is a large negative number. It is usually set to 1. But it can be tweaked.\n",
    "\n",
    "* It has a nonzero graident for z < 0, which avoids the dead neuron problems.\n",
    "\n",
    "* If alpha is equal to 1 then the function is smooth everywhere, including around z = 0, which helps spped up gradint descent. \n",
    "\n",
    "The main issue is that ELU is slower to compute. But there is a way around this using ScaledELU. Here if you build a neural network composed exclusively of a stack dense layers, and if all hidden layers uses SElu acivation function  then the network will self-normalize. The output of each layer will preserve a mean of 0 an dstandard deviation of 1 during training. Which solves the vanishing/exploding graident problem.  SELU the scaled variant of ELU outperforms other activation functions.  However in order for self normalization to happen the following needs to occur:\n",
    "\n",
    "* The input features must be standardized\n",
    "* Every hidden layer's weight must be initialized with LeCun normalization initialization.\n",
    "* IN keras, this means seeting kernel_inittializer=\"lecun_normal\"\n",
    "* The network's architecture must be sequential. Unfortunately, if you try to use SELU in nonsequential architectures, such as recurrent networks. or networks with skip connections. Self normalization will not be guaranteed so SELu will not necessarily outperform other activation. \n",
    "* Self normalization only works oif all layers are dense. "
   ]
  },
  {
   "cell_type": "code",
   "execution_count": 11,
   "metadata": {},
   "outputs": [],
   "source": [
    "from scipy.special import erfc\n",
    "# alpha and scale to self normalize with mean 0 and standard deviation 1\n",
    "# (see equation 14 in the paper):\n",
    "alpha_0_1 = -np.sqrt(2 / np.pi) / (erfc(1/np.sqrt(2)) * np.exp(1/2) - 1)\n",
    "scale_0_1 = (1 - erfc(1 / np.sqrt(2)) * np.sqrt(np.e)) * np.sqrt(2 * np.pi) * (2 * erfc(np.sqrt(2))*np.e**2 + np.pi*erfc(1/np.sqrt(2))**2*np.e - 2*(2+np.pi)*erfc(1/np.sqrt(2))*np.sqrt(np.e)+np.pi+2)**(-1/2)"
   ]
  },
  {
   "cell_type": "code",
   "execution_count": 12,
   "metadata": {},
   "outputs": [],
   "source": [
    "def selu(z, scale=scale_0_1, alpha=alpha_0_1):\n",
    "    return scale * elu(z, alpha)"
   ]
  },
  {
   "cell_type": "code",
   "execution_count": 13,
   "metadata": {},
   "outputs": [
    {
     "data": {
      "image/png": "[encoded data removed]",
      "text/plain": [
       "<Figure size 432x288 with 1 Axes>"
      ]
     },
     "metadata": {
      "needs_background": "light"
     },
     "output_type": "display_data"
    }
   ],
   "source": [
    "plt.plot(z, selu(z), \"b-\", linewidth=2)\n",
    "plt.plot([-5, 5], [0, 0], 'k-')\n",
    "plt.plot([-5, 5], [-1.758, -1.758], 'k--')\n",
    "plt.plot([0, 0], [-2.2, 3.2], 'k-')\n",
    "plt.grid(True)\n",
    "plt.title(\"SELU activation function\", fontsize=14)\n",
    "plt.axis([-5, 5, -2.2, 3.2])\n",
    "\n",
    "#save_fig(\"selu_plot\")\n",
    "plt.show()"
   ]
  },
  {
   "cell_type": "markdown",
   "metadata": {},
   "source": [
    "By default, the SELU hyperparameters (scale and alpha) are tuned in such a way that the mean output of each neuron remains close to 0, and the standard deviation remains close to 1 (assuming the inputs are standardized with mean 0 and standard deviation 1 too). Using this activation function, even a 1,000 layer deep neural network preserves roughly mean 0 and standard deviation 1 across all layers, avoiding the exploding/vanishing gradients problem:"
   ]
  },
  {
   "cell_type": "code",
   "execution_count": 14,
   "metadata": {},
   "outputs": [
    {
     "name": "stdout",
     "output_type": "stream",
     "text": [
      "Layer 0: mean -0.00, std deviation 1.00\n",
      "Layer 100: mean 0.02, std deviation 0.96\n",
      "Layer 200: mean 0.01, std deviation 0.90\n",
      "Layer 300: mean -0.02, std deviation 0.92\n",
      "Layer 400: mean 0.05, std deviation 0.89\n",
      "Layer 500: mean 0.01, std deviation 0.93\n",
      "Layer 600: mean 0.02, std deviation 0.92\n",
      "Layer 700: mean -0.02, std deviation 0.90\n",
      "Layer 800: mean 0.05, std deviation 0.83\n",
      "Layer 900: mean 0.02, std deviation 1.00\n"
     ]
    }
   ],
   "source": [
    "Z = np.random.normal(size=(500, 100)) # standardized inputs\n",
    "for layer in range(1000):\n",
    "    W = np.random.normal(size=(100, 100), scale=np.sqrt(1 / 100)) # LeCun initialization\n",
    "    Z = selu(np.dot(Z, W))\n",
    "    means = np.mean(Z, axis=0).mean()\n",
    "    stds = np.std(Z, axis=0).mean()\n",
    "    if layer % 100 == 0:\n",
    "        print(\"Layer {}: mean {:.2f}, std deviation {:.2f}\".format(layer, means, stds))"
   ]
  },
  {
   "cell_type": "markdown",
   "metadata": {},
   "source": [
    "## Batch Normalization\n",
    "\n",
    "Though we can use ELU and RELU to somlve the problem of vanishing/explording graidents, it does not guarantte they do not come back during training. \n",
    "\n",
    "To solve this we use Batch Normalization. This involves adding an operation in the model just before or after the activation function of each hidden layer. This operation simply zero-centers and normalizes each input then scales adn shifts the result using two new parameter vectors per layer: one for scaling and the othe rfor shifting. In other words, the operation lets the model learn the opitmal scale and mean of each layer's inputs. "
   ]
  },
  {
   "cell_type": "code",
   "execution_count": null,
   "metadata": {},
   "outputs": [],
   "source": []
  }
 ],
 "metadata": {
  "kernelspec": {
   "display_name": "Python 3",
   "language": "python",
   "name": "python3"
  },
  "language_info": {
   "codemirror_mode": {
    "name": "ipython",
    "version": 3
   },
   "file_extension": ".py",
   "mimetype": "text/x-python",
   "name": "python",
   "nbconvert_exporter": "python",
   "pygments_lexer": "ipython3",
   "version": "3.7.4"
  }
 },
 "nbformat": 4,
 "nbformat_minor": 4
}
